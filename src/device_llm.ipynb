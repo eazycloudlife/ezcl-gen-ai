{
 "cells": [
  {
   "cell_type": "code",
   "execution_count": 2,
   "id": "27a83a7d-9a20-4f60-adfb-f4d140ec8cdf",
   "metadata": {},
   "outputs": [],
   "source": [
    "from dotenv import load_dotenv\n",
    "import os\n",
    "\n",
    "# Load environment variables from .env file\n",
    "load_dotenv()\n",
    "\n",
    "# Get the API key from environment variable\n",
    "google_api_key = os.getenv('GOOGLE_API_KEY')\n",
    "# os.environ['GOOGLE_API_KEY'] = google_api_key\n",
    "# print(open_api_key)"
   ]
  },
  {
   "cell_type": "code",
   "execution_count": 4,
   "id": "a5a820d1-c448-4f3c-99f1-20a4888d8882",
   "metadata": {},
   "outputs": [],
   "source": [
    "# Initialize the GooglePalm LLM with the API key\n",
    "from langchain.llms import GooglePalm\n",
    "# from langchain_google_genai import GoogleGenerativeAI\n",
    "\n",
    "# llm = GoogleGenerativeAI(model=\"gemini-pro\", google_api_key=google_api_key, temperature=0.2)\n",
    "llm = GooglePalm(google_api_key=google_api_key, temperature=0.2)\n",
    "# poem = llm.invoke(\"Write a poem on my love for dosa\")\n",
    "# print(poem)"
   ]
  },
  {
   "cell_type": "code",
   "execution_count": 5,
   "id": "65edb37a",
   "metadata": {},
   "outputs": [
    {
     "name": "stdout",
     "output_type": "stream",
     "text": [
      "\n",
      "CREATE TABLE devices (\n",
      "\tdevice_id INTEGER, \n",
      "\tcategory VARCHAR(50) CHARACTER SET utf8mb3 COLLATE utf8mb3_general_ci, \n",
      "\ttype VARCHAR(50) CHARACTER SET utf8mb3 COLLATE utf8mb3_general_ci, \n",
      "\tbrand VARCHAR(50) CHARACTER SET utf8mb3 COLLATE utf8mb3_general_ci, \n",
      "\tmodel VARCHAR(50) CHARACTER SET utf8mb3 COLLATE utf8mb3_general_ci, \n",
      "\tdsn VARCHAR(50) CHARACTER SET utf8mb3 COLLATE utf8mb3_general_ci, \n",
      "\tdescription VARCHAR(255) CHARACTER SET utf8mb3 COLLATE utf8mb3_general_ci, \n",
      "\tqty INTEGER, \n",
      "\tpo_mode VARCHAR(50) CHARACTER SET utf8mb3 COLLATE utf8mb3_general_ci, \n",
      "\tpo_no VARCHAR(50) CHARACTER SET utf8mb3 COLLATE utf8mb3_general_ci, \n",
      "\tpurchase_link VARCHAR(255) CHARACTER SET utf8mb3 COLLATE utf8mb3_general_ci, \n",
      "\tprice DECIMAL(18, 2), \n",
      "\tpurpose VARCHAR(255) CHARACTER SET utf8mb3 COLLATE utf8mb3_general_ci, \n",
      "\tasset_tag VARCHAR(50) CHARACTER SET utf8mb3 COLLATE utf8mb3_general_ci, \n",
      "\tdevice_owner VARCHAR(255) CHARACTER SET utf8mb3 COLLATE utf8mb3_general_ci, \n",
      "\tcurrent_owner VARCHAR(255) CHARACTER SET utf8mb3 COLLATE utf8mb3_general_ci, \n",
      "\tinventory_spoc VARCHAR(255) CHARACTER SET utf8mb3 COLLATE utf8mb3_general_ci, \n",
      "\tmanager VARCHAR(255) CHARACTER SET utf8mb3 COLLATE utf8mb3_general_ci, \n",
      "\tteam VARCHAR(255) CHARACTER SET utf8mb3 COLLATE utf8mb3_general_ci, \n",
      "\tbaseliners VARCHAR(255) CHARACTER SET utf8mb3 COLLATE utf8mb3_general_ci, \n",
      "\tdevice_status VARCHAR(50) CHARACTER SET utf8mb3 COLLATE utf8mb3_general_ci, \n",
      "\tlocation VARCHAR(255) CHARACTER SET utf8mb3 COLLATE utf8mb3_general_ci, \n",
      "\tcomments VARCHAR(255) CHARACTER SET utf8mb3 COLLATE utf8mb3_general_ci, \n",
      "\ttech_data_status VARCHAR(50) CHARACTER SET utf8mb3 COLLATE utf8mb3_general_ci\n",
      ")ENGINE=InnoDB COLLATE utf8mb4_0900_ai_ci DEFAULT CHARSET=utf8mb4\n",
      "\n",
      "/*\n",
      "3 rows from devices table:\n",
      "device_id\tcategory\ttype\tbrand\tmodel\tdsn\tdescription\tqty\tpo_mode\tpo_no\tpurchase_link\tprice\tpurpose\tasset_tag\tdevice_owner\tcurrent_owner\tinventory_spoc\tmanager\tteam\tbaseliners\tdevice_status\tlocation\tcomments\ttech_data_status\n",
      "9460\t1P\tTablet\tAmazon\tThebes\tG000HH015262057R\tDVT\t1\t\t\t\t0.00\t\t\t\tDavid White (dwhite)\tLaura Scott (lscott)\tibrahim\tkitchen\t\tWorking\t\t\t\n",
      "9461\t1P\tTablet\tAmazon\tAriel\t00880302416600AT\tEVT 2.0\t1\t\t\t\t0.00\t\t\t\tLisa Hill (lhill)\tFrank Edwards (fedwards)\tjitendra\tfoundation\t\tWorking\t\t\t\n",
      "9462\t1P\tTablet\tAmazon\tMustang\tG0W117029024F025\tDVT 1.0\t1\t\t\t\t0.00\t\t\t\tLisa Hill (lhill)\tSteven Adams (sadams)\tjitendra\tfoundation\t\tNot functioning\t\t\t\n",
      "*/\n"
     ]
    }
   ],
   "source": [
    "from langchain_community.utilities import SQLDatabase\n",
    "\n",
    "db_user = \"root\"\n",
    "db_password = \"root\"\n",
    "db_host = \"localhost\"\n",
    "db_name = \"device_os_inventory\"\n",
    "url = f\"mysql+pymysql://{db_user}:{db_password}@{db_host}/{db_name}\"\n",
    "# print(url)\n",
    "\n",
    "db = SQLDatabase.from_uri(url)\n",
    "print(db.table_info)"
   ]
  },
  {
   "cell_type": "code",
   "execution_count": 6,
   "id": "dbe165b8",
   "metadata": {},
   "outputs": [
    {
     "name": "stderr",
     "output_type": "stream",
     "text": [
      "c:\\Users\\sujee\\anaconda3\\envs\\genai\\Lib\\site-packages\\langchain_core\\_api\\deprecation.py:139: LangChainDeprecationWarning: The method `Chain.run` was deprecated in langchain 0.1.0 and will be removed in 0.3.0. Use invoke instead.\n",
      "  warn_deprecated(\n"
     ]
    },
    {
     "name": "stdout",
     "output_type": "stream",
     "text": [
      "\n",
      "\n",
      "\u001b[1m> Entering new SQLDatabaseChain chain...\u001b[0m\n",
      "how many 1p tablets are there?\n",
      "SQLQuery:\u001b[32;1m\u001b[1;3mSELECT count(*) FROM devices WHERE category = '1P' AND type = 'Tablet'\u001b[0m\n",
      "SQLResult: \u001b[33;1m\u001b[1;3m[(147,)]\u001b[0m\n",
      "Answer:\u001b[32;1m\u001b[1;3m147\u001b[0m\n",
      "\u001b[1m> Finished chain.\u001b[0m\n"
     ]
    }
   ],
   "source": [
    "from langchain_experimental.sql import SQLDatabaseChain\n",
    "\n",
    "db_chain = SQLDatabaseChain.from_llm(llm, db, verbose=True)\n",
    "query = \"how many 1p tablets are there?\"\n",
    "qns1 = db_chain.run(query)"
   ]
  },
  {
   "cell_type": "code",
   "execution_count": 7,
   "id": "c8db657e",
   "metadata": {},
   "outputs": [
    {
     "name": "stdout",
     "output_type": "stream",
     "text": [
      "\n",
      "\n",
      "\u001b[1m> Entering new SQLDatabaseChain chain...\u001b[0m\n",
      "how many Multi modal devices are there?\n",
      "SQLQuery:\u001b[32;1m\u001b[1;3mSELECT count(*) FROM devices WHERE category = 'Multi modal'\u001b[0m\n",
      "SQLResult: \u001b[33;1m\u001b[1;3m[(0,)]\u001b[0m\n",
      "Answer:\u001b[32;1m\u001b[1;3m0\u001b[0m\n",
      "\u001b[1m> Finished chain.\u001b[0m\n"
     ]
    }
   ],
   "source": [
    "qns2 = db_chain.run(\"how many Multi modal devices are there?\")"
   ]
  },
  {
   "cell_type": "code",
   "execution_count": 8,
   "id": "29a419a1",
   "metadata": {},
   "outputs": [
    {
     "name": "stdout",
     "output_type": "stream",
     "text": [
      "\n",
      "\n",
      "\u001b[1m> Entering new SQLDatabaseChain chain...\u001b[0m\n",
      "SELECT count(*) FROM devices WHERE type = 'Multi modal'\n",
      "SQLQuery:\u001b[32;1m\u001b[1;3mSELECT count(*) FROM devices WHERE type = 'Multi modal'\u001b[0m\n",
      "SQLResult: \u001b[33;1m\u001b[1;3m[(98,)]\u001b[0m\n",
      "Answer:\u001b[32;1m\u001b[1;3m98\u001b[0m\n",
      "\u001b[1m> Finished chain.\u001b[0m\n"
     ]
    }
   ],
   "source": [
    "qns2 = db_chain.run(\"SELECT count(*) FROM devices WHERE type = 'Multi modal'\")"
   ]
  },
  {
   "cell_type": "code",
   "execution_count": 9,
   "id": "c2f2ff14",
   "metadata": {},
   "outputs": [
    {
     "name": "stdout",
     "output_type": "stream",
     "text": [
      "\n",
      "\n",
      "\u001b[1m> Entering new SQLDatabaseChain chain...\u001b[0m\n",
      "how many accessories type is there\n",
      "SQLQuery:\u001b[32;1m\u001b[1;3mSELECT count(DISTINCT type) FROM devices WHERE category = 'Accessories'\u001b[0m\n",
      "SQLResult: \u001b[33;1m\u001b[1;3m[(0,)]\u001b[0m\n",
      "Answer:\u001b[32;1m\u001b[1;3m0\u001b[0m\n",
      "\u001b[1m> Finished chain.\u001b[0m\n"
     ]
    }
   ],
   "source": [
    "qns3 = db_chain.invoke(\"how many accessories type is there\")"
   ]
  },
  {
   "cell_type": "code",
   "execution_count": 10,
   "id": "c12e0972",
   "metadata": {},
   "outputs": [
    {
     "name": "stdout",
     "output_type": "stream",
     "text": [
      "\n",
      "\n",
      "\u001b[1m> Entering new SQLDatabaseChain chain...\u001b[0m\n",
      "\n",
      "SELECT COUNT(*) FROM devices WHERE type = 'Accessories'\n",
      " \n",
      "SQLQuery:\u001b[32;1m\u001b[1;3mSELECT COUNT(*) FROM devices WHERE type = 'Accessories'\u001b[0m\n",
      "SQLResult: \u001b[33;1m\u001b[1;3m[(7,)]\u001b[0m\n",
      "Answer:\u001b[32;1m\u001b[1;3m7\u001b[0m\n",
      "\u001b[1m> Finished chain.\u001b[0m\n"
     ]
    }
   ],
   "source": [
    "sql_code = \"\"\"\n",
    "SELECT COUNT(*) FROM devices WHERE type = 'Accessories'\n",
    " \"\"\"\n",
    "\n",
    "qns3 = db_chain.run(sql_code)"
   ]
  },
  {
   "cell_type": "code",
   "execution_count": 11,
   "id": "51876b66",
   "metadata": {},
   "outputs": [
    {
     "name": "stdout",
     "output_type": "stream",
     "text": [
      "\n",
      "\n",
      "\u001b[1m> Entering new SQLDatabaseChain chain...\u001b[0m\n",
      "how many none devices are there\n",
      "SQLQuery:\u001b[32;1m\u001b[1;3mSELECT count(*) FROM devices WHERE category = 'None'\u001b[0m\n",
      "SQLResult: \u001b[33;1m\u001b[1;3m[(0,)]\u001b[0m\n",
      "Answer:\u001b[32;1m\u001b[1;3m0\u001b[0m\n",
      "\u001b[1m> Finished chain.\u001b[0m\n"
     ]
    }
   ],
   "source": [
    "qns4 = db_chain.invoke(\"how many none devices are there\")"
   ]
  },
  {
   "cell_type": "code",
   "execution_count": 12,
   "id": "eb8d424b",
   "metadata": {},
   "outputs": [
    {
     "name": "stdout",
     "output_type": "stream",
     "text": [
      "\n",
      "\n",
      "\u001b[1m> Entering new SQLDatabaseChain chain...\u001b[0m\n",
      "SELECT count(*) FROM devices WHERE type = 'None'\n",
      "SQLQuery:\u001b[32;1m\u001b[1;3mSELECT count(*) FROM devices WHERE type = 'None'\u001b[0m\n",
      "SQLResult: \u001b[33;1m\u001b[1;3m[(0,)]\u001b[0m\n",
      "Answer:\u001b[32;1m\u001b[1;3m0\u001b[0m\n",
      "\u001b[1m> Finished chain.\u001b[0m\n"
     ]
    }
   ],
   "source": [
    "qns4 = db_chain.run(\"SELECT count(*) FROM devices WHERE type = 'None'\")"
   ]
  },
  {
   "cell_type": "code",
   "execution_count": 13,
   "id": "037b16a9",
   "metadata": {},
   "outputs": [
    {
     "name": "stdout",
     "output_type": "stream",
     "text": [
      "\n",
      "\n",
      "\u001b[1m> Entering new SQLDatabaseChain chain...\u001b[0m\n",
      "Who is the manager for bishop?\n",
      "SQLQuery:\u001b[32;1m\u001b[1;3mSELECT manager FROM devices WHERE current_owner = 'bishop'\u001b[0m\n",
      "SQLResult: \u001b[33;1m\u001b[1;3m\u001b[0m\n",
      "Answer:\u001b[32;1m\u001b[1;3mSteven Adams (sadams)\u001b[0m\n",
      "\u001b[1m> Finished chain.\u001b[0m\n"
     ]
    }
   ],
   "source": [
    "qns5 = db_chain.run(\"Who is the manager for bishop?\")"
   ]
  },
  {
   "cell_type": "code",
   "execution_count": 14,
   "id": "7bf319b7",
   "metadata": {},
   "outputs": [
    {
     "name": "stdout",
     "output_type": "stream",
     "text": [
      "\n",
      "\n",
      "\u001b[1m> Entering new SQLDatabaseChain chain...\u001b[0m\n",
      "SELECT manager FROM devices WHERE model = 'bishop'\n",
      "SQLQuery:\u001b[32;1m\u001b[1;3mSELECT manager FROM devices WHERE model = 'bishop'\u001b[0m\n",
      "SQLResult: \u001b[33;1m\u001b[1;3m[('sujeet singh',), ('mani',), ('sujeet singh',), ('vivek',), ('sujeet singh',), ('vivek',), ('ibrahim',), ('sujeet singh',), ('sujeet singh',), ('sujeet singh',), ('jitendra',)]\u001b[0m\n",
      "Answer:\u001b[32;1m\u001b[1;3mvivek\u001b[0m\n",
      "\u001b[1m> Finished chain.\u001b[0m\n"
     ]
    }
   ],
   "source": [
    "qns5 = db_chain.run(\"SELECT manager FROM devices WHERE model = 'bishop'\")"
   ]
  },
  {
   "cell_type": "code",
   "execution_count": 19,
   "id": "a551f44f",
   "metadata": {},
   "outputs": [
    {
     "data": {
      "text/plain": [
       "'vivek'"
      ]
     },
     "execution_count": 19,
     "metadata": {},
     "output_type": "execute_result"
    }
   ],
   "source": [
    "qns5"
   ]
  },
  {
   "cell_type": "code",
   "execution_count": 34,
   "id": "b0d7a127",
   "metadata": {},
   "outputs": [
    {
     "name": "stdout",
     "output_type": "stream",
     "text": [
      "{'Question': 'how many accessories type is there?', 'SQLQuery': \"SELECT COUNT(*) FROM devices WHERE type = 'Accessories'\", 'SQLResult': 'Result of the SQL query', 'Answer': '7'}\n"
     ]
    }
   ],
   "source": [
    "few_shots = [\n",
    "    {'Question' : \"how many 1p tablets are there?\",\n",
    "     'SQLQuery' : \"SELECT count(*) FROM devices WHERE category = '1P' AND type = 'Tablet'\",\n",
    "     'SQLResult': \"Result of the SQL query\",\n",
    "     'Answer' : qns1},\n",
    "    {'Question': \"how many Multi modal devices are there?\",\n",
    "     'SQLQuery':\"SELECT count(*) FROM devices WHERE type = 'Multi modal'\",\n",
    "     'SQLResult': \"Result of the SQL query\",\n",
    "     'Answer': qns2},\n",
    "    {'Question': \"how many accessories type is there?\" ,\n",
    "     'SQLQuery' : \"\"\"SELECT COUNT(*) FROM devices WHERE type = 'Accessories'\"\"\",\n",
    "     'SQLResult': \"Result of the SQL query\",\n",
    "     'Answer': qns3} ,\n",
    "     {'Question' : \"how many none devices are there?\" ,\n",
    "      'SQLQuery': \"SELECT count(*) FROM devices WHERE type = 'None'\",\n",
    "      'SQLResult': \"Result of the SQL query\",\n",
    "      'Answer' : qns4},\n",
    "    {'Question': \"Who is the manager for bishop?\",\n",
    "     'SQLQuery' : \"SELECT manager FROM devices WHERE model = 'bishop'\",\n",
    "     'SQLResult': \"Result of the SQL query\",\n",
    "     'Answer' : qns5\n",
    "     }\n",
    "]\n",
    "print(few_shots[2])"
   ]
  },
  {
   "cell_type": "code",
   "execution_count": 35,
   "id": "8007490a",
   "metadata": {},
   "outputs": [],
   "source": [
    "from langchain_huggingface import HuggingFaceEmbeddings\n",
    "embeddings = HuggingFaceEmbeddings(model_name='sentence-transformers/all-MiniLM-L6-v2')\n",
    "\n",
    "# e = embeddings.embed_query(\"How many t-shirts do we have left for Nike in XS size and white color?\")\n",
    "# e[:5]"
   ]
  },
  {
   "cell_type": "code",
   "execution_count": 36,
   "id": "5303d634",
   "metadata": {},
   "outputs": [
    {
     "name": "stdout",
     "output_type": "stream",
     "text": [
      "how many 1p tablets are there? SELECT count(*) FROM devices WHERE category = '1P' AND type = 'Tablet' Result of the SQL query 147\n"
     ]
    }
   ],
   "source": [
    "to_vectorize = [\" \".join(example.values()) for example in few_shots]\n",
    "\n",
    "print(to_vectorize[0])"
   ]
  },
  {
   "cell_type": "code",
   "execution_count": 37,
   "id": "938382fc",
   "metadata": {},
   "outputs": [],
   "source": [
    "# from langchain_community.vectorstores import Chroma\n",
    "\n",
    "# vectorstore = Chroma.from_texts(to_vectorize, embeddings, metadatas=few_shots)\n",
    "from langchain_community.vectorstores import FAISS\n",
    "vectorstore = FAISS.from_texts(to_vectorize, embeddings, metadatas=few_shots)"
   ]
  },
  {
   "cell_type": "code",
   "execution_count": 38,
   "id": "1d1b5523",
   "metadata": {},
   "outputs": [
    {
     "data": {
      "text/plain": [
       "[{'Question': 'Who is the manager for bishop?',\n",
       "  'SQLQuery': \"SELECT manager FROM devices WHERE model = 'bishop'\",\n",
       "  'SQLResult': 'Result of the SQL query',\n",
       "  'Answer': 'vivek'},\n",
       " {'Question': 'how many Multi modal devices are there?',\n",
       "  'SQLQuery': \"SELECT count(*) FROM devices WHERE type = 'Multi modal'\",\n",
       "  'SQLResult': 'Result of the SQL query',\n",
       "  'Answer': '98'}]"
      ]
     },
     "execution_count": 38,
     "metadata": {},
     "output_type": "execute_result"
    }
   ],
   "source": [
    "from langchain_core.example_selectors import SemanticSimilarityExampleSelector\n",
    "example_selector = SemanticSimilarityExampleSelector(\n",
    "    vectorstore=vectorstore,\n",
    "    k=2,\n",
    ")\n",
    "\n",
    "example_selector.select_examples({\"Question\": \"How many manager are there?\"})"
   ]
  },
  {
   "cell_type": "code",
   "execution_count": 39,
   "id": "29c9e221",
   "metadata": {},
   "outputs": [],
   "source": [
    "### my sql based instruction prompt\n",
    "mysql_prompt = \"\"\"You are a MySQL expert. Given an input question, first create a syntactically correct MySQL query to run, then look at the results of the query and return the answer to the input question.\n",
    "Unless the user specifies in the question a specific number of examples to obtain, query for at most {top_k} results using the LIMIT clause as per MySQL. You can order the results to return the most informative data in the database.\n",
    "Never query for all columns from a table. You must query only the columns that are needed to answer the question. Wrap each column name in backticks (`) to denote them as delimited identifiers.\n",
    "Pay attention to use only the column names you can see in the tables below. Be careful to not query for columns that do not exist. Also, pay attention to which column is in which table.\n",
    "Pay attention to use CURDATE() function to get the current date, if the question involves \"today\".\n",
    "\n",
    "Use the following format:\n",
    "\n",
    "Question: Question here\n",
    "SQLQuery: Query to run with no pre-amble\n",
    "SQLResult: Result of the SQLQuery\n",
    "Answer: Final answer here\n",
    "\n",
    "No pre-amble.\n",
    "\"\"\""
   ]
  },
  {
   "cell_type": "code",
   "execution_count": 40,
   "id": "fd32864e",
   "metadata": {},
   "outputs": [
    {
     "name": "stdout",
     "output_type": "stream",
     "text": [
      "Only use the following tables:\n",
      "{table_info}\n",
      "\n",
      "Question: {input}\n"
     ]
    }
   ],
   "source": [
    "from langchain_core.prompts.few_shot import FewShotPromptTemplate\n",
    "from langchain.chains.sql_database.prompt import PROMPT_SUFFIX, _mysql_prompt\n",
    "\n",
    "\n",
    "print(PROMPT_SUFFIX)"
   ]
  },
  {
   "cell_type": "code",
   "execution_count": 60,
   "id": "70959e6b",
   "metadata": {},
   "outputs": [
    {
     "name": "stdout",
     "output_type": "stream",
     "text": [
      "\n",
      "Question: how many accessories type is there?\n",
      "SQLQuery: SELECT COUNT(*) FROM devices WHERE type = 'Accessories'\n",
      "SQLResult: Result of the SQL query\n",
      "Answer: 7\n"
     ]
    }
   ],
   "source": [
    "from langchain_core.prompts.prompt import PromptTemplate\n",
    "\n",
    "example_prompt = PromptTemplate(\n",
    "    input_variables=[\"Question\", \"SQLQuery\", \"SQLResult\",\"Answer\",],\n",
    "    template=\"\\nQuestion: {Question}\\nSQLQuery: {SQLQuery}\\nSQLResult: {SQLResult}\\nAnswer: {Answer}\",\n",
    ")\n",
    "print(example_prompt.format(**few_shots[2]))"
   ]
  },
  {
   "cell_type": "code",
   "execution_count": 42,
   "id": "2b8e579e",
   "metadata": {},
   "outputs": [
    {
     "name": "stdout",
     "output_type": "stream",
     "text": [
      "You are a MySQL expert. Given an input question, first create a syntactically correct MySQL query to run, then look at the results of the query and return the answer to the input question.\n",
      "Unless the user specifies in the question a specific number of examples to obtain, query for at most {top_k} results using the LIMIT clause as per MySQL. You can order the results to return the most informative data in the database.\n",
      "Never query for all columns from a table. You must query only the columns that are needed to answer the question. Wrap each column name in backticks (`) to denote them as delimited identifiers.\n",
      "Pay attention to use only the column names you can see in the tables below. Be careful to not query for columns that do not exist. Also, pay attention to which column is in which table.\n",
      "Pay attention to use CURDATE() function to get the current date, if the question involves \"today\".\n",
      "\n",
      "Use the following format:\n",
      "\n",
      "Question: Question here\n",
      "SQLQuery: SQL Query to run\n",
      "SQLResult: Result of the SQLQuery\n",
      "Answer: Final answer here\n",
      "\n",
      "\n"
     ]
    }
   ],
   "source": [
    "print(_mysql_prompt)"
   ]
  },
  {
   "cell_type": "code",
   "execution_count": 43,
   "id": "f15d29d0",
   "metadata": {},
   "outputs": [],
   "source": [
    "few_shot_prompt = FewShotPromptTemplate(\n",
    "    example_selector=example_selector,\n",
    "    example_prompt=example_prompt,\n",
    "    prefix=mysql_prompt,\n",
    "    suffix=PROMPT_SUFFIX,\n",
    "    input_variables=[\"input\", \"table_info\", \"top_k\"], #These variables are used in the prefix and suffix\n",
    ")\n",
    "#print(few_shot_prompt.format(input=\"How much is the total price of the inventory for all S-size t-shirts?\"))"
   ]
  },
  {
   "cell_type": "code",
   "execution_count": 44,
   "id": "03f8509d",
   "metadata": {},
   "outputs": [],
   "source": [
    "new_chain = SQLDatabaseChain.from_llm(llm, db, verbose=True, prompt=few_shot_prompt)"
   ]
  },
  {
   "cell_type": "code",
   "execution_count": 45,
   "id": "f288b2a5",
   "metadata": {},
   "outputs": [
    {
     "name": "stderr",
     "output_type": "stream",
     "text": [
      "c:\\Users\\sujee\\anaconda3\\envs\\genai\\Lib\\site-packages\\langchain_core\\_api\\deprecation.py:139: LangChainDeprecationWarning: The method `Chain.__call__` was deprecated in langchain 0.1.0 and will be removed in 0.3.0. Use invoke instead.\n",
      "  warn_deprecated(\n"
     ]
    },
    {
     "name": "stdout",
     "output_type": "stream",
     "text": [
      "\n",
      "\n",
      "\u001b[1m> Entering new SQLDatabaseChain chain...\u001b[0m\n",
      "How many manager are there\n",
      "SQLQuery:\u001b[32;1m\u001b[1;3mSELECT count(DISTINCT manager) FROM devices\u001b[0m\n",
      "SQLResult: \u001b[33;1m\u001b[1;3m[(5,)]\u001b[0m\n",
      "Answer:\u001b[32;1m\u001b[1;3m5\u001b[0m\n",
      "\u001b[1m> Finished chain.\u001b[0m\n",
      "{'query': 'How many manager are there', 'result': '5'}\n"
     ]
    }
   ],
   "source": [
    "print(new_chain(\"How many manager are there\"))"
   ]
  },
  {
   "cell_type": "code",
   "execution_count": 46,
   "id": "cef5281a",
   "metadata": {},
   "outputs": [
    {
     "name": "stdout",
     "output_type": "stream",
     "text": [
      "\n",
      "\n",
      "\u001b[1m> Entering new SQLDatabaseChain chain...\u001b[0m\n",
      "how many accessories type is there?\n",
      "SQLQuery:\u001b[32;1m\u001b[1;3mSELECT COUNT(*) FROM devices WHERE type = 'Accessories'\u001b[0m\n",
      "SQLResult: \u001b[33;1m\u001b[1;3m[(7,)]\u001b[0m\n",
      "Answer:\u001b[32;1m\u001b[1;3m7\u001b[0m\n",
      "\u001b[1m> Finished chain.\u001b[0m\n"
     ]
    },
    {
     "data": {
      "text/plain": [
       "{'query': 'how many accessories type is there?', 'result': '7'}"
      ]
     },
     "execution_count": 46,
     "metadata": {},
     "output_type": "execute_result"
    }
   ],
   "source": [
    "new_chain(\"how many accessories type is there?\")"
   ]
  },
  {
   "cell_type": "code",
   "execution_count": 47,
   "id": "0915ce63",
   "metadata": {},
   "outputs": [
    {
     "name": "stdout",
     "output_type": "stream",
     "text": [
      "\n",
      "\n",
      "\u001b[1m> Entering new SQLDatabaseChain chain...\u001b[0m\n",
      "Who is the manager for bishop?\n",
      "SQLQuery:\u001b[32;1m\u001b[1;3mSELECT manager FROM devices WHERE model = 'bishop'\u001b[0m\n",
      "SQLResult: \u001b[33;1m\u001b[1;3m[('sujeet singh',), ('mani',), ('sujeet singh',), ('vivek',), ('sujeet singh',), ('vivek',), ('ibrahim',), ('sujeet singh',), ('sujeet singh',), ('sujeet singh',), ('jitendra',)]\u001b[0m\n",
      "Answer:\u001b[32;1m\u001b[1;3mvivek\u001b[0m\n",
      "\u001b[1m> Finished chain.\u001b[0m\n"
     ]
    },
    {
     "data": {
      "text/plain": [
       "{'query': 'Who is the manager for bishop?', 'result': 'vivek'}"
      ]
     },
     "execution_count": 47,
     "metadata": {},
     "output_type": "execute_result"
    }
   ],
   "source": [
    "new_chain(\"Who is the manager for bishop?\")"
   ]
  },
  {
   "cell_type": "code",
   "execution_count": 48,
   "id": "0cbfad7c",
   "metadata": {},
   "outputs": [
    {
     "name": "stdout",
     "output_type": "stream",
     "text": [
      "\n",
      "\n",
      "\u001b[1m> Entering new SQLDatabaseChain chain...\u001b[0m\n",
      "how many Multi modal devices are there?\n",
      "SQLQuery:\u001b[32;1m\u001b[1;3mSELECT count(*) FROM devices WHERE type = 'Multi modal'\u001b[0m\n",
      "SQLResult: \u001b[33;1m\u001b[1;3m[(98,)]\u001b[0m\n",
      "Answer:\u001b[32;1m\u001b[1;3m98\u001b[0m\n",
      "\u001b[1m> Finished chain.\u001b[0m\n"
     ]
    },
    {
     "data": {
      "text/plain": [
       "{'query': 'how many Multi modal devices are there?', 'result': '98'}"
      ]
     },
     "execution_count": 48,
     "metadata": {},
     "output_type": "execute_result"
    }
   ],
   "source": [
    "new_chain(\"how many Multi modal devices are there?\")"
   ]
  },
  {
   "cell_type": "code",
   "execution_count": 50,
   "id": "e06e972e",
   "metadata": {},
   "outputs": [
    {
     "name": "stdout",
     "output_type": "stream",
     "text": [
      "\n",
      "\n",
      "\u001b[1m> Entering new SQLDatabaseChain chain...\u001b[0m\n",
      "how many accessories type is there?\n",
      "SQLQuery:\u001b[32;1m\u001b[1;3mSELECT COUNT(*) FROM devices WHERE type = 'Accessories'\u001b[0m\n",
      "SQLResult: \u001b[33;1m\u001b[1;3m[(7,)]\u001b[0m\n",
      "Answer:\u001b[32;1m\u001b[1;3m7\u001b[0m\n",
      "\u001b[1m> Finished chain.\u001b[0m\n"
     ]
    },
    {
     "data": {
      "text/plain": [
       "'7'"
      ]
     },
     "execution_count": 50,
     "metadata": {},
     "output_type": "execute_result"
    }
   ],
   "source": [
    "new_chain.run(\"how many accessories type is there?\")"
   ]
  },
  {
   "cell_type": "code",
   "execution_count": 54,
   "id": "30a43c7c",
   "metadata": {},
   "outputs": [
    {
     "name": "stdout",
     "output_type": "stream",
     "text": [
      "\n",
      "\n",
      "\u001b[1m> Entering new SQLDatabaseChain chain...\u001b[0m\n",
      "Give me list of DISTINCT MODEL count\n",
      "SQLQuery:\u001b[32;1m\u001b[1;3mSELECT DISTINCT model FROM devices\u001b[0m\n",
      "SQLResult: \u001b[33;1m\u001b[1;3m[('Thebes',), ('Ariel',), ('Mustang',), ('Onyx',), ('Douglas',), ('Austin',), ('Suez',), ('Ford',), ('Giza',), ('Karnak',), ('Maverick',), ('Tank',), ('Trona',), ('Rook',), ('Bishop',), ('Knight',), ('Checkers',), ('Crown',), ('Theia',), ('Hoya',), ('Athena',), ('Cronos',), ('Needle',), ('Sheldon+',), ('Raven',), ('Sheldon',), ('Smita',), ('Baton',), ('Winston',), ('Stark',), ('Kara',), ('Bueller',), ('Saturn',), ('Memphis',), ('Montoya',), ('Aston',), ('Mantis',), ('Thor',), ('Frank',), ('Sloane',), ('Dwight',), ('Rita',), ('Biscuit',), ('Radar With Debug Board',), ('croissant',), ('Donut',), ('Doebrite',), ('Crumpet',), ('Radar',), ('Cupcake',), ('Laser (With Debug Board)',), ('Brownie (With Debug Board)',), ('Ganache',), ('Sapphire',), ('Pascal',), ('Powell',), ('Ginger',), ('Donut (With Debug Board)',), ('Crumpet (With Debug Board)',), ('Lidar',), ('octave',), ('Snyder',), ('Laser',), ('Sonar',), ('Pablo',), ('Brownie',), ('Malbec',), ('Stinger',), ('Jaeger',), ('Whisky',), ('Moonshine',), ('Cognac',), ('Eanab',), ('Muscat',), ('Enab',), ('Primrose',), ('Rancho',), ('Wario',), ('Burgundy',), ('Smitha',), ('Doppler',), ('Fox',), ('Cruller',)]\u001b[0m\n",
      "Answer:\u001b[32;1m\u001b[1;3m57\u001b[0m\n",
      "\u001b[1m> Finished chain.\u001b[0m\n"
     ]
    },
    {
     "data": {
      "text/plain": [
       "'57'"
      ]
     },
     "execution_count": 54,
     "metadata": {},
     "output_type": "execute_result"
    }
   ],
   "source": [
    "new_chain.run('Give me list of DISTINCT MODEL count')"
   ]
  }
 ],
 "metadata": {
  "kernelspec": {
   "display_name": "Python 3 (ipykernel)",
   "language": "python",
   "name": "python3"
  },
  "language_info": {
   "codemirror_mode": {
    "name": "ipython",
    "version": 3
   },
   "file_extension": ".py",
   "mimetype": "text/x-python",
   "name": "python",
   "nbconvert_exporter": "python",
   "pygments_lexer": "ipython3",
   "version": "3.12.4"
  }
 },
 "nbformat": 4,
 "nbformat_minor": 5
}
